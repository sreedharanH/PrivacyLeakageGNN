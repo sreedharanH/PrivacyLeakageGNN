{
  "nbformat": 4,
  "nbformat_minor": 0,
  "metadata": {
    "kernelspec": {
      "display_name": "Python 3",
      "language": "python",
      "name": "python3"
    },
    "language_info": {
      "codemirror_mode": {
        "name": "ipython",
        "version": 3
      },
      "file_extension": ".py",
      "mimetype": "text/x-python",
      "name": "python",
      "nbconvert_exporter": "python",
      "pygments_lexer": "ipython3",
      "version": "3.6.9"
    },
    "colab": {
      "name": "graphsage-citeseer.ipynb",
      "provenance": [],
      "collapsed_sections": []
    }
  },
  "cells": [
    {
      "cell_type": "code",
      "metadata": {
        "nbsphinx": "hidden",
        "tags": [
          "VersionCheck"
        ],
        "id": "gRLbXn1Mv9N_",
        "colab_type": "code",
        "colab": {}
      },
      "source": [
        "# install StellarGraph if running on Google Colab\n",
        "import sys\n",
        "if 'google.colab' in sys.modules:\n",
        "  %pip install -q stellargraph[demos]==1.1.0\n",
        "\n",
        "# verify that we're using the correct version of StellarGraph for this notebook\n",
        "import stellargraph as sg\n",
        "\n",
        "try:\n",
        "    sg.utils.validate_notebook_version(\"1.1.0\")\n",
        "except AttributeError:\n",
        "    raise ValueError(\n",
        "        f\"This notebook requires StellarGraph version 1.1.0, but a different version {sg.__version__} is installed.  Please see <https://github.com/stellargraph/stellargraph/issues/1172>.\"\n",
        "    ) from None\n",
        "\n",
        "import networkx as nx\n",
        "import pandas as pd\n",
        "import numpy as np\n",
        "import itertools\n",
        "import os\n",
        "\n",
        "from sklearn.decomposition import PCA\n",
        "from sklearn.manifold import TSNE\n",
        "\n",
        "import stellargraph as sg\n",
        "from stellargraph import globalvar\n",
        "from stellargraph.mapper import GraphSAGENodeGenerator\n",
        "from stellargraph.layer import GraphSAGE\n",
        "\n",
        "from tensorflow.keras import layers, optimizers, losses, metrics, Model\n",
        "from sklearn import preprocessing, feature_extraction, model_selection\n",
        "from stellargraph import datasets\n",
        "from IPython.display import display, HTML\n",
        "import matplotlib.pyplot as plt\n",
        "\n",
        "%matplotlib inline"
      ],
      "execution_count": 0,
      "outputs": []
    },
    {
      "cell_type": "markdown",
      "metadata": {
        "id": "wxitJTPsv9OS",
        "colab_type": "text"
      },
      "source": [
        "## Loading the dataset"
      ]
    },
    {
      "cell_type": "code",
      "metadata": {
        "tags": [
          "DataLoading"
        ],
        "id": "RsZ3zjivv9OW",
        "colab_type": "code",
        "colab": {}
      },
      "source": [
        "dataset = datasets.CiteSeer()\n",
        "graph_full, labels = dataset.load()\n",
        "#print(graph_full.info())\n",
        "labels_sampled = labels.sample(frac=0.8, replace=False, random_state=101)\n",
        "graph_sampled = graph_full.subgraph(labels_sampled.index)\n",
        "#print(graph_sampled.info())"
      ],
      "execution_count": 0,
      "outputs": []
    },
    {
      "cell_type": "code",
      "metadata": {
        "id": "-yVb8o9cv9Pf",
        "colab_type": "code",
        "colab": {}
      },
      "source": [
        "train_labels, test_labels = model_selection.train_test_split(labels_sampled,train_size=0.05,test_size=None,stratify=labels_sampled,random_state=42)\n",
        "val_labels, test_labels = model_selection.train_test_split(test_labels, train_size=0.2, test_size=None, stratify=test_labels, random_state=100)\n",
        "\n",
        "target_encoding = preprocessing.LabelBinarizer()\n",
        "\n",
        "train_targets = target_encoding.fit_transform(train_labels)\n",
        "val_targets = target_encoding.transform(val_labels)\n",
        "test_targets = target_encoding.transform(test_labels)"
      ],
      "execution_count": 0,
      "outputs": []
    },
    {
      "cell_type": "code",
      "metadata": {
        "id": "-Z_rs8Uqv9QB",
        "colab_type": "code",
        "colab": {}
      },
      "source": [
        "generator = GraphSAGENodeGenerator(graph_sampled, 50, [10, 10])\n",
        "train_gen = generator.flow(train_labels.index, train_targets, shuffle=False)"
      ],
      "execution_count": 0,
      "outputs": []
    },
    {
      "cell_type": "code",
      "metadata": {
        "id": "fOUN3klXv9QS",
        "colab_type": "code",
        "colab": {}
      },
      "source": [
        "graphsage_model = GraphSAGE(layer_sizes=[32, 32], generator=generator, bias=True, dropout=0.5)\n",
        "x_inp, x_out = graphsage_model.in_out_tensors()\n",
        "prediction = layers.Dense(units=train_targets.shape[1], activation=\"softmax\")(x_out)\n",
        "\n",
        "model = Model(inputs=x_inp, outputs=prediction)\n",
        "model.compile(optimizer=optimizers.Adam(lr=0.005),loss=losses.categorical_crossentropy,metrics=[\"acc\"])"
      ],
      "execution_count": 0,
      "outputs": []
    },
    {
      "cell_type": "code",
      "metadata": {
        "id": "IR4gtia_v9Qt",
        "colab_type": "code",
        "colab": {
          "base_uri": "https://localhost:8080/",
          "height": 672
        },
        "outputId": "e38cc6c0-0d5b-44e1-a4c4-2bba1fa37e09"
      },
      "source": [
        "val_gen = generator.flow(val_labels.index, val_targets)\n",
        "history = model.fit(train_gen, epochs=30, validation_data=val_gen, verbose=0, shuffle=False)\n",
        "sg.utils.plot_history(history)\n",
        "\n",
        "test_gen = generator.flow(test_labels.index, test_targets)\n",
        "test_metrics = model.evaluate(test_gen)\n",
        "print(\"\\nTest Set Metrics:\")\n",
        "for name, val in zip(model.metrics_names, test_metrics):\n",
        "    print(\"\\t{}: {:0.4f}\".format(name, val))"
      ],
      "execution_count": 6,
      "outputs": [
        {
          "output_type": "stream",
          "text": [
            "41/41 [==============================] - 8s 184ms/step - loss: 1.1741 - acc: 0.6025\n",
            "\n",
            "Test Set Metrics:\n",
            "\tloss: 1.1741\n",
            "\tacc: 0.6025\n"
          ],
          "name": "stdout"
        },
        {
          "output_type": "display_data",
          "data": {
            "image/png": "[encoded data removed]",
            "text/plain": [
              "<Figure size 504x576 with 2 Axes>"
            ]
          },
          "metadata": {
            "tags": [],
            "needs_background": "light"
          }
        }
      ]
    },
    {
      "cell_type": "markdown",
      "metadata": {
        "id": "8ekz4Zo9v9RE",
        "colab_type": "text"
      },
      "source": [
        "# **Evaluate on Removed Nodes**"
      ]
    },
    {
      "cell_type": "code",
      "metadata": {
        "id": "VYU6YRDFv9RH",
        "colab_type": "code",
        "colab": {
          "base_uri": "https://localhost:8080/",
          "height": 104
        },
        "outputId": "d1caf378-f8e9-4c5e-e9dd-51a09498b659"
      },
      "source": [
        "generator = GraphSAGENodeGenerator(graph_full, 50, [10, 10])\n",
        "hold_out_nodes = labels.index.difference(labels_sampled.index)\n",
        "labels_hold_out = labels[hold_out_nodes]\n",
        "\n",
        "hold_out_targets = target_encoding.transform(labels_hold_out)\n",
        "hold_out_gen = generator.flow(hold_out_nodes, hold_out_targets)\n",
        "\n",
        "hold_out_predictions = model.predict(hold_out_gen)\n",
        "hold_out_predictions = target_encoding.inverse_transform(hold_out_predictions)\n",
        "\n",
        "hold_out_metrics = model.evaluate(hold_out_gen)\n",
        "print(\"\\nHold Out Set Metrics:\")\n",
        "for name, val in zip(model.metrics_names, hold_out_metrics):\n",
        "    print(\"\\t{}: {:0.4f}\".format(name, val))"
      ],
      "execution_count": 7,
      "outputs": [
        {
          "output_type": "stream",
          "text": [
            "14/14 [==============================] - 1s 80ms/step - loss: 1.1095 - acc: 0.6480\n",
            "\n",
            "Hold Out Set Metrics:\n",
            "\tloss: 1.1095\n",
            "\tacc: 0.6480\n"
          ],
          "name": "stdout"
        }
      ]
    },
    {
      "cell_type": "code",
      "metadata": {
        "id": "89M40nMM8HJU",
        "colab_type": "code",
        "colab": {}
      },
      "source": [
        "def inference_via_confidence(confidence_mtx1, confidence_mtx2, label_vec1, label_vec2):\n",
        "\n",
        "    #----------------First step: obtain confidence lists for both training dataset and test dataset--------------\n",
        "    confidence1 = []\n",
        "    confidence2 = []\n",
        "    acc1 = 0\n",
        "    acc2 = 0\n",
        "    for num in range(confidence_mtx1.shape[0]):\n",
        "        confidence1.append(confidence_mtx1[num,label_vec1[num]])\n",
        "        if np.argmax(confidence_mtx1[num,:]) == np.argmax(label_vec1[num]):\n",
        "            acc1 += 1\n",
        "\n",
        "    for num in range(confidence_mtx2.shape[0]):\n",
        "        confidence2.append(confidence_mtx2[num,label_vec2[num]])\n",
        "        if np.argmax(confidence_mtx2[num,:]) == np.argmax(label_vec2[num]):\n",
        "            acc2 += 1\n",
        "    confidence1 = np.array(confidence1)\n",
        "    confidence2 = np.array(confidence2)\n",
        "\n",
        "    print('model accuracy for training and test-', (acc1/confidence_mtx1.shape[0], acc2/confidence_mtx2.shape[0]) )\n",
        "\n",
        "\n",
        "    #sort_confidence = np.sort(confidence1)\n",
        "    sort_confidence = np.sort(np.concatenate((confidence1, confidence2)))\n",
        "    max_accuracy = 0.5\n",
        "    for num in range(len(sort_confidence)):\n",
        "        delta = sort_confidence[num]\n",
        "        ratio1 = np.sum(confidence1>=delta)/confidence_mtx1.shape[0]\n",
        "        ratio2 = np.sum(confidence2>=delta)/confidence_mtx2.shape[0]\n",
        "        accuracy_now = 0.5*(ratio1+1-ratio2)\n",
        "        if accuracy_now > max_accuracy:\n",
        "            max_accuracy = accuracy_now\n",
        "    print('maximum inference accuracy is:', max_accuracy)\n",
        "    return max_accuracy"
      ],
      "execution_count": 0,
      "outputs": []
    },
    {
      "cell_type": "code",
      "metadata": {
        "id": "TZrnCfST4orY",
        "colab_type": "code",
        "colab": {
          "base_uri": "https://localhost:8080/",
          "height": 69
        },
        "outputId": "ec20cf21-c276-4ce0-df29-688fd5d4ffbd"
      },
      "source": [
        "output_train=model.predict(train_gen)\n",
        "output_test=model.predict(hold_out_gen)\n",
        "y_train = train_targets.astype('int')\n",
        "y_test = hold_out_targets.astype('int')\n",
        "\n",
        "inference_accuracy=inference_via_confidence(output_train, output_test, y_train, y_test)\n",
        "print(\"Maximum Accuracy:\",inference_accuracy)\n"
      ],
      "execution_count": 9,
      "outputs": [
        {
          "output_type": "stream",
          "text": [
            "model accuracy for training and test- (0.9924242424242424, 0.649546827794562)\n",
            "maximum inference accuracy is: 0.6087842167902591\n",
            "Maximum Accuracy: 0.6087842167902591\n"
          ],
          "name": "stdout"
        }
      ]
    }
  ]
}