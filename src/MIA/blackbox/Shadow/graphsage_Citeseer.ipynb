{
  "nbformat": 4,
  "nbformat_minor": 0,
  "metadata": {
    "kernelspec": {
      "display_name": "Python 3",
      "language": "python",
      "name": "python3"
    },
    "language_info": {
      "codemirror_mode": {
        "name": "ipython",
        "version": 3
      },
      "file_extension": ".py",
      "mimetype": "text/x-python",
      "name": "python",
      "nbconvert_exporter": "python",
      "pygments_lexer": "ipython3",
      "version": "3.6.9"
    },
    "colab": {
      "name": "graphsage_Citeseer.ipynb",
      "provenance": [],
      "collapsed_sections": []
    }
  },
  "cells": [
    {
      "cell_type": "code",
      "metadata": {
        "nbsphinx": "hidden",
        "tags": [
          "VersionCheck"
        ],
        "id": "gRLbXn1Mv9N_",
        "colab_type": "code",
        "colab": {}
      },
      "source": [
        "# install StellarGraph if running on Google Colab\n",
        "import sys\n",
        "if 'google.colab' in sys.modules:\n",
        "  %pip install -q stellargraph[demos]==1.1.0\n",
        "\n",
        "# verify that we're using the correct version of StellarGraph for this notebook\n",
        "import stellargraph as sg\n",
        "\n",
        "try:\n",
        "    sg.utils.validate_notebook_version(\"1.1.0\")\n",
        "except AttributeError:\n",
        "    raise ValueError(\n",
        "        f\"This notebook requires StellarGraph version 1.1.0, but a different version {sg.__version__} is installed.  Please see <https://github.com/stellargraph/stellargraph/issues/1172>.\"\n",
        "    ) from None\n",
        "\n",
        "import networkx as nx\n",
        "import pandas as pd\n",
        "import numpy as np\n",
        "import itertools\n",
        "import os\n",
        "\n",
        "from sklearn.decomposition import PCA\n",
        "from sklearn.manifold import TSNE\n",
        "\n",
        "import stellargraph as sg\n",
        "from stellargraph import globalvar\n",
        "from stellargraph.mapper import GraphSAGENodeGenerator\n",
        "from stellargraph.layer import GraphSAGE\n",
        "\n",
        "from tensorflow.keras import layers, optimizers, losses, metrics, Model\n",
        "from sklearn import preprocessing, feature_extraction, model_selection\n",
        "from stellargraph import datasets\n",
        "from IPython.display import display, HTML\n",
        "import matplotlib.pyplot as plt\n",
        "\n",
        "%matplotlib inline"
      ],
      "execution_count": 0,
      "outputs": []
    },
    {
      "cell_type": "markdown",
      "metadata": {
        "id": "wxitJTPsv9OS",
        "colab_type": "text"
      },
      "source": [
        "## Loading the dataset"
      ]
    },
    {
      "cell_type": "code",
      "metadata": {
        "tags": [
          "DataLoading"
        ],
        "id": "RsZ3zjivv9OW",
        "colab_type": "code",
        "colab": {}
      },
      "source": [
        "dataset = datasets.CiteSeer()\n",
        "graph_full, labels = dataset.load()\n",
        "#print(graph_full.info())\n",
        "labels_sampled = labels.sample(frac=0.8, replace=False, random_state=101)\n",
        "graph_sampled = graph_full.subgraph(labels_sampled.index)\n",
        "#print(graph_sampled.info())"
      ],
      "execution_count": 0,
      "outputs": []
    },
    {
      "cell_type": "code",
      "metadata": {
        "id": "-yVb8o9cv9Pf",
        "colab_type": "code",
        "colab": {}
      },
      "source": [
        "train_labels, test_labels = model_selection.train_test_split(labels_sampled,train_size=0.25,test_size=None,stratify=labels_sampled,random_state=42)\n",
        "val_labels, test_labels = model_selection.train_test_split(test_labels, train_size=0.2, test_size=None, stratify=test_labels, random_state=100)\n",
        "\n",
        "target_encoding = preprocessing.LabelBinarizer()\n",
        "\n",
        "train_targets = target_encoding.fit_transform(train_labels)\n",
        "val_targets = target_encoding.transform(val_labels)\n",
        "test_targets = target_encoding.transform(test_labels)"
      ],
      "execution_count": 0,
      "outputs": []
    },
    {
      "cell_type": "code",
      "metadata": {
        "id": "-Z_rs8Uqv9QB",
        "colab_type": "code",
        "colab": {}
      },
      "source": [
        "generator = GraphSAGENodeGenerator(graph_sampled, 50, [10, 10])\n",
        "train_gen = generator.flow(train_labels.index, train_targets, shuffle=False)"
      ],
      "execution_count": 0,
      "outputs": []
    },
    {
      "cell_type": "code",
      "metadata": {
        "id": "fOUN3klXv9QS",
        "colab_type": "code",
        "colab": {}
      },
      "source": [
        "graphsage_model = GraphSAGE(layer_sizes=[32, 32], generator=generator, bias=True, dropout=0.5)\n",
        "x_inp, x_out = graphsage_model.in_out_tensors()\n",
        "prediction = layers.Dense(units=train_targets.shape[1], activation=\"softmax\")(x_out)\n",
        "\n",
        "model = Model(inputs=x_inp, outputs=prediction)\n",
        "model.compile(optimizer=optimizers.Adam(lr=0.005),loss=losses.categorical_crossentropy,metrics=[\"acc\"])"
      ],
      "execution_count": 0,
      "outputs": []
    },
    {
      "cell_type": "code",
      "metadata": {
        "id": "IR4gtia_v9Qt",
        "colab_type": "code",
        "outputId": "71dd6f4f-b060-4b12-c9c9-224aeeaeaec9",
        "colab": {
          "base_uri": "https://localhost:8080/",
          "height": 672
        }
      },
      "source": [
        "val_gen = generator.flow(val_labels.index, val_targets)\n",
        "history = model.fit(train_gen, epochs=30, validation_data=val_gen, verbose=0, shuffle=False)\n",
        "sg.utils.plot_history(history)\n",
        "\n",
        "test_gen = generator.flow(test_labels.index, test_targets)\n",
        "test_metrics = model.evaluate(test_gen)\n",
        "print(\"\\nTest Set Metrics:\")\n",
        "for name, val in zip(model.metrics_names, test_metrics):\n",
        "    print(\"\\t{}: {:0.4f}\".format(name, val))"
      ],
      "execution_count": 6,
      "outputs": [
        {
          "output_type": "stream",
          "text": [
            "32/32 [==============================] - 6s 173ms/step - loss: 1.3353 - acc: 0.6612\n",
            "\n",
            "Test Set Metrics:\n",
            "\tloss: 1.3353\n",
            "\tacc: 0.6612\n"
          ],
          "name": "stdout"
        },
        {
          "output_type": "display_data",
          "data": {
            "image/png": "[encoded data removed]",
            "text/plain": [
              "<Figure size 504x576 with 2 Axes>"
            ]
          },
          "metadata": {
            "tags": [],
            "needs_background": "light"
          }
        }
      ]
    },
    {
      "cell_type": "code",
      "metadata": {
        "id": "VYU6YRDFv9RH",
        "colab_type": "code",
        "outputId": "5aacd90c-c787-47bf-b2bd-3353dc12b45c",
        "colab": {
          "base_uri": "https://localhost:8080/",
          "height": 104
        }
      },
      "source": [
        "#Hold out set\n",
        "generator = GraphSAGENodeGenerator(graph_full, 50, [10, 10])\n",
        "hold_out_nodes = labels.index.difference(labels_sampled.index)\n",
        "labels_hold_out = labels[hold_out_nodes]\n",
        "\n",
        "hold_out_targets = target_encoding.transform(labels_hold_out)\n",
        "hold_out_gen = generator.flow(hold_out_nodes, hold_out_targets)\n",
        "\n",
        "hold_out_predictions = model.predict(hold_out_gen)\n",
        "hold_out_predictions = target_encoding.inverse_transform(hold_out_predictions)\n",
        "\n",
        "hold_out_metrics = model.evaluate(hold_out_gen)\n",
        "print(\"\\nHold Out Set Metrics:\")\n",
        "for name, val in zip(model.metrics_names, hold_out_metrics):\n",
        "    print(\"\\t{}: {:0.4f}\".format(name, val))"
      ],
      "execution_count": 7,
      "outputs": [
        {
          "output_type": "stream",
          "text": [
            "14/14 [==============================] - 1s 83ms/step - loss: 1.1818 - acc: 0.6858\n",
            "\n",
            "Hold Out Set Metrics:\n",
            "\tloss: 1.1818\n",
            "\tacc: 0.6858\n"
          ],
          "name": "stdout"
        }
      ]
    },
    {
      "cell_type": "code",
      "metadata": {
        "id": "w4mBXIHQdbaq",
        "colab_type": "code",
        "colab": {
          "base_uri": "https://localhost:8080/",
          "height": 52
        },
        "outputId": "22dd074e-b769-4f50-ef01-887d79819631"
      },
      "source": [
        "print(len(train_targets))\n",
        "print(len(hold_out_targets))"
      ],
      "execution_count": 8,
      "outputs": [
        {
          "output_type": "stream",
          "text": [
            "662\n",
            "662\n"
          ],
          "name": "stdout"
        }
      ]
    },
    {
      "cell_type": "markdown",
      "metadata": {
        "id": "wHL1nFqqD_iw",
        "colab_type": "text"
      },
      "source": [
        "# **Shadow Model**"
      ]
    },
    {
      "cell_type": "code",
      "metadata": {
        "id": "VYsL4ZKeET48",
        "colab_type": "code",
        "colab": {}
      },
      "source": [
        "shadow_labels_sampled = labels.sample(frac=0.6, replace=False, random_state=10)\n",
        "shadow_graph = graph_full.subgraph(shadow_labels_sampled.index)\n",
        "\n",
        "\n",
        "\n",
        "shadow_train_labels, shadow_test_labels = model_selection.train_test_split(shadow_labels_sampled,train_size=0.7,test_size=None,stratify=shadow_labels_sampled,random_state=42)\n",
        "shadow_val_labels, shadow_test_labels = model_selection.train_test_split(shadow_test_labels, train_size=0.2, test_size=None, stratify=shadow_test_labels, random_state=100)\n",
        "\n",
        "target_encoding = preprocessing.LabelBinarizer()\n",
        "\n",
        "shadow_train_targets = target_encoding.fit_transform(shadow_train_labels)\n",
        "shadow_val_targets = target_encoding.transform(shadow_val_labels)\n",
        "shadow_test_targets = target_encoding.transform(shadow_test_labels)"
      ],
      "execution_count": 0,
      "outputs": []
    },
    {
      "cell_type": "code",
      "metadata": {
        "id": "RGNFOvE-U3jA",
        "colab_type": "code",
        "colab": {}
      },
      "source": [
        "shadow_generator = GraphSAGENodeGenerator(shadow_graph, 50, [10, 10])\n",
        "shadow_train_gen = shadow_generator.flow(shadow_train_labels.index, shadow_train_targets, shuffle=False)\n",
        "\n",
        "\n",
        "shadow_model = GraphSAGE(layer_sizes=[32, 32], generator=shadow_generator, bias=True, dropout=0.5)\n",
        "x_inp1, x_out1 = shadow_model.in_out_tensors()\n",
        "prediction1 = layers.Dense(units=shadow_train_targets.shape[1], activation=\"softmax\")(x_out1)\n",
        "\n",
        "shadow_model = Model(inputs=x_inp1, outputs=prediction1)\n",
        "shadow_model.compile(optimizer=optimizers.Adam(lr=0.005),loss=losses.categorical_crossentropy,metrics=[\"acc\"])"
      ],
      "execution_count": 0,
      "outputs": []
    },
    {
      "cell_type": "code",
      "metadata": {
        "id": "5HiBQzQDU_my",
        "colab_type": "code",
        "colab": {
          "base_uri": "https://localhost:8080/",
          "height": 672
        },
        "outputId": "21292849-53cd-4932-8de7-2c1d1716e707"
      },
      "source": [
        "shadow_val_gen = shadow_generator.flow(shadow_val_labels.index, shadow_val_targets)\n",
        "history1 = shadow_model.fit(shadow_train_gen, epochs=30, validation_data=shadow_val_gen, verbose=0, shuffle=False)\n",
        "sg.utils.plot_history(history1)\n",
        "\n",
        "shadow_test_gen = shadow_generator.flow(shadow_test_labels.index, shadow_test_targets)\n",
        "test_metrics1 = shadow_model.evaluate(shadow_test_gen)\n",
        "print(\"\\nTest Set Metrics:\")\n",
        "for name, val in zip(shadow_model.metrics_names, test_metrics1):\n",
        "    print(\"\\t{}: {:0.4f}\".format(name, val))"
      ],
      "execution_count": 11,
      "outputs": [
        {
          "output_type": "stream",
          "text": [
            "10/10 [==============================] - 1s 129ms/step - loss: 1.3825 - acc: 0.6946\n",
            "\n",
            "Test Set Metrics:\n",
            "\tloss: 1.3825\n",
            "\tacc: 0.6946\n"
          ],
          "name": "stdout"
        },
        {
          "output_type": "display_data",
          "data": {
            "image/png": "[encoded data removed]",
            "text/plain": [
              "<Figure size 504x576 with 2 Axes>"
            ]
          },
          "metadata": {
            "tags": [],
            "needs_background": "light"
          }
        }
      ]
    },
    {
      "cell_type": "code",
      "metadata": {
        "id": "fervRTROVCED",
        "colab_type": "code",
        "colab": {
          "base_uri": "https://localhost:8080/",
          "height": 104
        },
        "outputId": "1618815e-2eea-417d-c9ac-c7106eaaec78"
      },
      "source": [
        "#Hold out set\n",
        "shadow_generator = GraphSAGENodeGenerator(graph_full, 50, [10, 10])\n",
        "shadow_hold_out_nodes = labels.index.difference(shadow_labels_sampled.index)\n",
        "shadow_labels_hold_out = labels[shadow_hold_out_nodes]\n",
        "\n",
        "shadow_hold_out_targets = target_encoding.transform(shadow_labels_hold_out)\n",
        "shadow_hold_out_gen = shadow_generator.flow(shadow_hold_out_nodes, shadow_hold_out_targets)\n",
        "\n",
        "hold_out_predictions1 = shadow_model.predict(shadow_hold_out_gen)\n",
        "hold_out_predictions1 = target_encoding.inverse_transform(hold_out_predictions1)\n",
        "\n",
        "hold_out_metrics1 = shadow_model.evaluate(shadow_hold_out_gen)\n",
        "print(\"\\nHold Out Set Metrics:\")\n",
        "for name, val in zip(shadow_model.metrics_names, hold_out_metrics1):\n",
        "    print(\"\\t{}: {:0.4f}\".format(name, val))"
      ],
      "execution_count": 12,
      "outputs": [
        {
          "output_type": "stream",
          "text": [
            "27/27 [==============================] - 2s 89ms/step - loss: 1.2197 - acc: 0.7223\n",
            "\n",
            "Hold Out Set Metrics:\n",
            "\tloss: 1.2197\n",
            "\tacc: 0.7223\n"
          ],
          "name": "stdout"
        }
      ]
    },
    {
      "cell_type": "code",
      "metadata": {
        "id": "DfVOzWZ7d7J4",
        "colab_type": "code",
        "colab": {
          "base_uri": "https://localhost:8080/",
          "height": 52
        },
        "outputId": "0ed142c6-8c2a-4289-a59d-014641b304bb"
      },
      "source": [
        "print(len(shadow_train_targets))\n",
        "print(len(shadow_hold_out_targets))"
      ],
      "execution_count": 13,
      "outputs": [
        {
          "output_type": "stream",
          "text": [
            "1390\n",
            "1325\n"
          ],
          "name": "stdout"
        }
      ]
    },
    {
      "cell_type": "markdown",
      "metadata": {
        "id": "oHxHmGLeX8XR",
        "colab_type": "text"
      },
      "source": [
        "# **Inference Accuracy**"
      ]
    },
    {
      "cell_type": "code",
      "metadata": {
        "id": "hNvCSN2CYjoa",
        "colab_type": "code",
        "colab": {
          "base_uri": "https://localhost:8080/",
          "height": 69
        },
        "outputId": "92f0b946-ea7f-4ede-dc9d-c8ea42084e9d"
      },
      "source": [
        "shadow_train=shadow_model.predict(shadow_train_gen)\n",
        "shadow_test=shadow_model.predict(shadow_hold_out_gen)\n",
        "y_shadow_train=[1]*shadow_train_targets.shape[0]\n",
        "y_shadow_test=[0]*shadow_hold_out_targets.shape[0]\n",
        "print(len(y_shadow_train))\n",
        "print(len(y_shadow_test))\n",
        "y_train_attack=y_shadow_train+y_shadow_test\n",
        "#print(y_train_attack)\n",
        "x_train_attack=np.concatenate((np.array(shadow_train),np.array(shadow_test)))\n",
        "print(x_train_attack.shape)"
      ],
      "execution_count": 14,
      "outputs": [
        {
          "output_type": "stream",
          "text": [
            "1390\n",
            "1325\n",
            "(2715, 6)\n"
          ],
          "name": "stdout"
        }
      ]
    },
    {
      "cell_type": "code",
      "metadata": {
        "id": "6vNJYaBVX7cs",
        "colab_type": "code",
        "colab": {
          "base_uri": "https://localhost:8080/",
          "height": 69
        },
        "outputId": "bb930d5f-0be7-43c7-85bc-ca29dfbbb2d9"
      },
      "source": [
        "target_train=model.predict(train_gen)\n",
        "target_test=model.predict(hold_out_gen)\n",
        "y_target_train=[1]*train_targets.shape[0]\n",
        "y_target_test=[0]*hold_out_targets.shape[0]\n",
        "print(len(y_target_train))\n",
        "print(len(y_target_test))\n",
        "y_test_attack=y_target_train+y_target_test\n",
        "#print(y_train_attack)\n",
        "x_test_attack=np.concatenate((np.array(target_train),np.array(target_test)))\n",
        "print(x_test_attack.shape)"
      ],
      "execution_count": 15,
      "outputs": [
        {
          "output_type": "stream",
          "text": [
            "662\n",
            "662\n",
            "(1324, 6)\n"
          ],
          "name": "stdout"
        }
      ]
    },
    {
      "cell_type": "code",
      "metadata": {
        "id": "BzJNX_TNYfMw",
        "colab_type": "code",
        "colab": {
          "base_uri": "https://localhost:8080/",
          "height": 298
        },
        "outputId": "c62c81ad-17ea-4b37-b135-e6f247963be9"
      },
      "source": [
        "from sklearn.neural_network import MLPClassifier\n",
        "from sklearn import metrics\n",
        "clf = MLPClassifier(random_state=1, solver='adam', max_iter=300).fit(x_train_attack, y_train_attack)\n",
        "clf.fit(x_train_attack, y_train_attack)\n",
        "print(\"Test set score: %f\" % clf.score(x_test_attack, y_test_attack))\n",
        "\n",
        "y_score = clf.predict(x_test_attack)\n",
        "print(metrics.classification_report(y_test_attack, y_score, labels=range(2)))\n",
        "print(metrics.roc_auc_score(y_test_attack, y_score))"
      ],
      "execution_count": 16,
      "outputs": [
        {
          "output_type": "stream",
          "text": [
            "/usr/local/lib/python3.6/dist-packages/sklearn/neural_network/_multilayer_perceptron.py:571: ConvergenceWarning: Stochastic Optimizer: Maximum iterations (300) reached and the optimization hasn't converged yet.\n",
            "  % self.max_iter, ConvergenceWarning)\n"
          ],
          "name": "stderr"
        },
        {
          "output_type": "stream",
          "text": [
            "Test set score: 0.637462\n",
            "              precision    recall  f1-score   support\n",
            "\n",
            "           0       0.76      0.40      0.53       662\n",
            "           1       0.59      0.87      0.71       662\n",
            "\n",
            "    accuracy                           0.64      1324\n",
            "   macro avg       0.68      0.64      0.62      1324\n",
            "weighted avg       0.68      0.64      0.62      1324\n",
            "\n",
            "0.6374622356495467\n"
          ],
          "name": "stdout"
        },
        {
          "output_type": "stream",
          "text": [
            "/usr/local/lib/python3.6/dist-packages/sklearn/neural_network/_multilayer_perceptron.py:571: ConvergenceWarning: Stochastic Optimizer: Maximum iterations (300) reached and the optimization hasn't converged yet.\n",
            "  % self.max_iter, ConvergenceWarning)\n"
          ],
          "name": "stderr"
        }
      ]
    }
  ]
}